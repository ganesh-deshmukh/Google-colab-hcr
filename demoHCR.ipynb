{
  "nbformat": 4,
  "nbformat_minor": 0,
  "metadata": {
    "colab": {
      "name": "demoHCR.ipynb",
      "version": "0.3.2",
      "provenance": [],
      "collapsed_sections": [],
      "include_colab_link": true
    },
    "kernelspec": {
      "name": "python3",
      "display_name": "Python 3"
    }
  },
  "cells": [
    {
      "cell_type": "markdown",
      "metadata": {
        "id": "view-in-github",
        "colab_type": "text"
      },
      "source": [
        "<a href=\"https://colab.research.google.com/github/ganesh-deshmukh/Google-colab-hcr/blob/master/demoHCR.ipynb\" target=\"_parent\"><img src=\"https://colab.research.google.com/assets/colab-badge.svg\" alt=\"Open In Colab\"/></a>"
      ]
    },
    {
      "metadata": {
        "id": "Pi-gHSL5jmiT",
        "colab_type": "code",
        "outputId": "3a8d87dd-7879-4f8a-bd6e-7a211159e899",
        "colab": {
          "base_uri": "https://localhost:8080/",
          "height": 34
        }
      },
      "cell_type": "code",
      "source": [
        "import tensorflow as tf\n",
        "print(tf.__version__)"
      ],
      "execution_count": 0,
      "outputs": [
        {
          "output_type": "stream",
          "text": [
            "1.13.0-rc1\n"
          ],
          "name": "stdout"
        }
      ]
    },
    {
      "metadata": {
        "id": "5_2RwHPFj0pd",
        "colab_type": "code",
        "colab": {}
      },
      "cell_type": "code",
      "source": [
        "from tensorflow.examples.tutorials.mnist import input_data"
      ],
      "execution_count": 0,
      "outputs": []
    },
    {
      "metadata": {
        "id": "86PqFCCoj_t3",
        "colab_type": "code",
        "outputId": "8fd65ab7-7e2d-4635-fab2-139ee3bf4c39",
        "colab": {
          "base_uri": "https://localhost:8080/",
          "height": 524
        }
      },
      "cell_type": "code",
      "source": [
        "mnist = input_data.read_data_sets(\"/MNIST_data/\", one_hot=True)"
      ],
      "execution_count": 0,
      "outputs": [
        {
          "output_type": "stream",
          "text": [
            "WARNING:tensorflow:From <ipython-input-7-13c79b205b5a>:1: read_data_sets (from tensorflow.contrib.learn.python.learn.datasets.mnist) is deprecated and will be removed in a future version.\n",
            "Instructions for updating:\n",
            "Please use alternatives such as official/mnist/dataset.py from tensorflow/models.\n",
            "WARNING:tensorflow:From /usr/local/lib/python3.6/dist-packages/tensorflow/contrib/learn/python/learn/datasets/mnist.py:260: maybe_download (from tensorflow.contrib.learn.python.learn.datasets.base) is deprecated and will be removed in a future version.\n",
            "Instructions for updating:\n",
            "Please write your own downloading logic.\n",
            "WARNING:tensorflow:From /usr/local/lib/python3.6/dist-packages/tensorflow/contrib/learn/python/learn/datasets/base.py:252: _internal_retry.<locals>.wrap.<locals>.wrapped_fn (from tensorflow.contrib.learn.python.learn.datasets.base) is deprecated and will be removed in a future version.\n",
            "Instructions for updating:\n",
            "Please use urllib or similar directly.\n",
            "Successfully downloaded train-images-idx3-ubyte.gz 9912422 bytes.\n",
            "WARNING:tensorflow:From /usr/local/lib/python3.6/dist-packages/tensorflow/contrib/learn/python/learn/datasets/mnist.py:262: extract_images (from tensorflow.contrib.learn.python.learn.datasets.mnist) is deprecated and will be removed in a future version.\n",
            "Instructions for updating:\n",
            "Please use tf.data to implement this functionality.\n",
            "Extracting /MNIST_data/train-images-idx3-ubyte.gz\n",
            "Successfully downloaded train-labels-idx1-ubyte.gz 28881 bytes.\n",
            "WARNING:tensorflow:From /usr/local/lib/python3.6/dist-packages/tensorflow/contrib/learn/python/learn/datasets/mnist.py:267: extract_labels (from tensorflow.contrib.learn.python.learn.datasets.mnist) is deprecated and will be removed in a future version.\n",
            "Instructions for updating:\n",
            "Please use tf.data to implement this functionality.\n",
            "Extracting /MNIST_data/train-labels-idx1-ubyte.gz\n",
            "WARNING:tensorflow:From /usr/local/lib/python3.6/dist-packages/tensorflow/contrib/learn/python/learn/datasets/mnist.py:110: dense_to_one_hot (from tensorflow.contrib.learn.python.learn.datasets.mnist) is deprecated and will be removed in a future version.\n",
            "Instructions for updating:\n",
            "Please use tf.one_hot on tensors.\n",
            "Successfully downloaded t10k-images-idx3-ubyte.gz 1648877 bytes.\n",
            "Extracting /MNIST_data/t10k-images-idx3-ubyte.gz\n",
            "Successfully downloaded t10k-labels-idx1-ubyte.gz 4542 bytes.\n",
            "Extracting /MNIST_data/t10k-labels-idx1-ubyte.gz\n",
            "WARNING:tensorflow:From /usr/local/lib/python3.6/dist-packages/tensorflow/contrib/learn/python/learn/datasets/mnist.py:290: DataSet.__init__ (from tensorflow.contrib.learn.python.learn.datasets.mnist) is deprecated and will be removed in a future version.\n",
            "Instructions for updating:\n",
            "Please use alternatives such as official/mnist/dataset.py from tensorflow/models.\n"
          ],
          "name": "stdout"
        }
      ]
    },
    {
      "metadata": {
        "id": "00ZAqDfG9Wbi",
        "colab_type": "code",
        "colab": {}
      },
      "cell_type": "code",
      "source": [
        "\n",
        "n_train = mnist.train.num_examples\n",
        "n_validation = mnist.validation.num_examples\n",
        "n_test = mnist.test.num_examples"
      ],
      "execution_count": 0,
      "outputs": []
    },
    {
      "metadata": {
        "id": "Ik1K42539vbM",
        "colab_type": "code",
        "colab": {}
      },
      "cell_type": "code",
      "source": [
        "n_input = 784   # input layer (28x28 pixels)\n",
        "n_hidden1 = 512 # 1st hidden layer\n",
        "n_hidden2 = 256 # 2nd hidden layer\n",
        "n_hidden3 = 128 # 3rd hidden layer\n",
        "n_output = 10   # output layer (0-9 digits)"
      ],
      "execution_count": 0,
      "outputs": []
    },
    {
      "metadata": {
        "id": "YoQp_wzzOF9o",
        "colab_type": "code",
        "colab": {}
      },
      "cell_type": "code",
      "source": [
        "learning_rate = 0.01\n",
        "n_iterations = 1000\n",
        "batch_size = 128\n",
        "dropout = 0.5"
      ],
      "execution_count": 0,
      "outputs": []
    },
    {
      "metadata": {
        "id": "hq3vksV1ns8t",
        "colab_type": "code",
        "colab": {}
      },
      "cell_type": "code",
      "source": [
        "X = tf.placeholder(\"float\", [None, n_input])\n",
        "Y = tf.placeholder(\"float\", [None, n_output])\n",
        "keep_prob = tf.placeholder(tf.float32) "
      ],
      "execution_count": 0,
      "outputs": []
    },
    {
      "metadata": {
        "id": "uMD_6Ug1oKqp",
        "colab_type": "code",
        "outputId": "c222b6cf-553d-49d9-a885-5ea0462313dd",
        "colab": {
          "base_uri": "https://localhost:8080/",
          "height": 87
        }
      },
      "cell_type": "code",
      "source": [
        "weights = {\n",
        "    'w1': tf.Variable(tf.truncated_normal([n_input, n_hidden1], stddev=0.1)),\n",
        "    'w2': tf.Variable(tf.truncated_normal([n_hidden1, n_hidden2], stddev=0.1)),\n",
        "    'w3': tf.Variable(tf.truncated_normal([n_hidden2, n_hidden3], stddev=0.1)),\n",
        "    'out': tf.Variable(tf.truncated_normal([n_hidden3, n_output], stddev=0.1)),\n",
        "}"
      ],
      "execution_count": 0,
      "outputs": [
        {
          "output_type": "stream",
          "text": [
            "WARNING:tensorflow:From /usr/local/lib/python3.6/dist-packages/tensorflow/python/framework/op_def_library.py:263: colocate_with (from tensorflow.python.framework.ops) is deprecated and will be removed in a future version.\n",
            "Instructions for updating:\n",
            "Colocations handled automatically by placer.\n"
          ],
          "name": "stdout"
        }
      ]
    },
    {
      "metadata": {
        "id": "meFHmiH8yYPS",
        "colab_type": "code",
        "colab": {}
      },
      "cell_type": "code",
      "source": [
        "biases = {\n",
        "    'b1': tf.Variable(tf.constant(0.1, shape=[n_hidden1])),\n",
        "    'b2': tf.Variable(tf.constant(0.1, shape=[n_hidden2])),\n",
        "    'b3': tf.Variable(tf.constant(0.1, shape=[n_hidden3])),\n",
        "    'out': tf.Variable(tf.constant(0.1, shape=[n_output]))\n",
        "}"
      ],
      "execution_count": 0,
      "outputs": []
    },
    {
      "metadata": {
        "id": "7xsebVY60VSE",
        "colab_type": "code",
        "outputId": "98f06b56-bcec-45ed-af56-fa42ccafd1ce",
        "colab": {
          "base_uri": "https://localhost:8080/",
          "height": 87
        }
      },
      "cell_type": "code",
      "source": [
        "\n",
        "layer_1 = tf.add(tf.matmul(X, weights['w1']), biases['b1'])\n",
        "layer_2 = tf.add(tf.matmul(layer_1, weights['w2']), biases['b2'])\n",
        "layer_3 = tf.add(tf.matmul(layer_2, weights['w3']), biases['b3'])\n",
        "layer_drop = tf.nn.dropout(layer_3, keep_prob)\n",
        "output_layer = tf.matmul(layer_3, weights['out']) + biases['out']"
      ],
      "execution_count": 0,
      "outputs": [
        {
          "output_type": "stream",
          "text": [
            "WARNING:tensorflow:From <ipython-input-14-63c38a250018>:5: calling dropout (from tensorflow.python.ops.nn_ops) with keep_prob is deprecated and will be removed in a future version.\n",
            "Instructions for updating:\n",
            "Please use `rate` instead of `keep_prob`. Rate should be set to `rate = 1 - keep_prob`.\n"
          ],
          "name": "stdout"
        }
      ]
    },
    {
      "metadata": {
        "id": "0Jz_Jaw0yk1N",
        "colab_type": "code",
        "outputId": "8a665362-00e5-496b-925a-5392ab9d29be",
        "colab": {
          "base_uri": "https://localhost:8080/",
          "height": 171
        }
      },
      "cell_type": "code",
      "source": [
        "cross_entropy = tf.reduce_mean(tf.nn.softmax_cross_entropy_with_logits(labels=Y, logits=output_layer))\n",
        "train_step = tf.train.AdamOptimizer(1e-4).minimize(cross_entropy)"
      ],
      "execution_count": 0,
      "outputs": [
        {
          "output_type": "stream",
          "text": [
            "WARNING:tensorflow:From <ipython-input-15-812430f7e244>:1: softmax_cross_entropy_with_logits (from tensorflow.python.ops.nn_ops) is deprecated and will be removed in a future version.\n",
            "Instructions for updating:\n",
            "\n",
            "Future major versions of TensorFlow will allow gradients to flow\n",
            "into the labels input on backprop by default.\n",
            "\n",
            "See `tf.nn.softmax_cross_entropy_with_logits_v2`.\n",
            "\n"
          ],
          "name": "stdout"
        }
      ]
    },
    {
      "metadata": {
        "id": "_UYaVuxg08hT",
        "colab_type": "code",
        "colab": {}
      },
      "cell_type": "code",
      "source": [
        "correct_pred = tf.equal(tf.argmax(output_layer, 1), tf.argmax(Y, 1))\n",
        "accuracy = tf.reduce_mean(tf.cast(correct_pred, tf.float32))"
      ],
      "execution_count": 0,
      "outputs": []
    },
    {
      "metadata": {
        "id": "v1FvMvpw1WSV",
        "colab_type": "code",
        "colab": {}
      },
      "cell_type": "code",
      "source": [
        "init = tf.global_variables_initializer()\n",
        "sess = tf.Session()\n",
        "sess.run(init)"
      ],
      "execution_count": 0,
      "outputs": []
    },
    {
      "metadata": {
        "id": "h4lLYEjd1YZw",
        "colab_type": "code",
        "outputId": "e3a49a2c-5353-4d86-ed3a-fed50d2f8754",
        "colab": {
          "base_uri": "https://localhost:8080/",
          "height": 185
        }
      },
      "cell_type": "code",
      "source": [
        "# train on mini batches\n",
        "for i in range(n_iterations):\n",
        "    batch_x, batch_y = mnist.train.next_batch(batch_size)\n",
        "    sess.run(train_step, feed_dict={X: batch_x, Y: batch_y, keep_prob:dropout})\n",
        "\n",
        "    # print loss and accuracy (per minibatch)\n",
        "    if i%100==0:\n",
        "        minibatch_loss, minibatch_accuracy = sess.run([cross_entropy, accuracy], feed_dict={X: batch_x, Y: batch_y, keep_prob:1.0})\n",
        "        print(\"Iteration\", str(i), \"\\t| Loss =\", str(minibatch_loss), \"\\t| Accuracy =\", str(minibatch_accuracy))"
      ],
      "execution_count": 0,
      "outputs": [
        {
          "output_type": "stream",
          "text": [
            "Iteration 0 \t| Loss = 3.864821 \t| Accuracy = 0.046875\n",
            "Iteration 100 \t| Loss = 0.5489812 \t| Accuracy = 0.8125\n",
            "Iteration 200 \t| Loss = 0.41209573 \t| Accuracy = 0.859375\n",
            "Iteration 300 \t| Loss = 0.4197754 \t| Accuracy = 0.8828125\n",
            "Iteration 400 \t| Loss = 0.3170334 \t| Accuracy = 0.9140625\n",
            "Iteration 500 \t| Loss = 0.29851222 \t| Accuracy = 0.8984375\n",
            "Iteration 600 \t| Loss = 0.2858266 \t| Accuracy = 0.8984375\n",
            "Iteration 700 \t| Loss = 0.1898289 \t| Accuracy = 0.953125\n",
            "Iteration 800 \t| Loss = 0.35865158 \t| Accuracy = 0.9375\n",
            "Iteration 900 \t| Loss = 0.2578477 \t| Accuracy = 0.90625\n"
          ],
          "name": "stdout"
        }
      ]
    },
    {
      "metadata": {
        "id": "qD75S8P11bS7",
        "colab_type": "code",
        "outputId": "a02bf959-1574-4974-ab76-7fab61fe3c7b",
        "colab": {
          "base_uri": "https://localhost:8080/",
          "height": 50
        }
      },
      "cell_type": "code",
      "source": [
        "test_accuracy = sess.run(accuracy, feed_dict={X: mnist.test.images, Y: mnist.test.labels, keep_prob:1.0})\n",
        "print(\"\\nAccuracy on test set:\", test_accuracy)"
      ],
      "execution_count": 0,
      "outputs": [
        {
          "output_type": "stream",
          "text": [
            "\n",
            "Accuracy on test set: 0.9183\n"
          ],
          "name": "stdout"
        }
      ]
    },
    {
      "metadata": {
        "id": "OzMkrnwx1eKO",
        "colab_type": "code",
        "outputId": "727cabec-79db-4829-c6e2-992e2ad3dfe0",
        "colab": {
          "base_uri": "https://localhost:8080/",
          "height": 84
        }
      },
      "cell_type": "code",
      "source": [
        "import numpy as np\n",
        "from PIL import Image\n",
        "print(\"Image.open\",type(Image.open(\"test_img.png\")))\n",
        "\n",
        "img = np.invert(Image.open(\"test_img.png\").convert('L')).ravel()\n",
        "print(\"img is \",type( img))\n",
        "print(img.size)\n",
        "print(img.shape)\n",
        "# prediction = sess.run(tf.argmax(output_layer,1), feed_dict={X: [img]})\n",
        "# print (\"Prediction for test image:\", np.squeeze(prediction))"
      ],
      "execution_count": 84,
      "outputs": [
        {
          "output_type": "stream",
          "text": [
            "Image.open <class 'PIL.PngImagePlugin.PngImageFile'>\n",
            "img is  <class 'numpy.ndarray'>\n",
            "784\n",
            "(784,)\n"
          ],
          "name": "stdout"
        }
      ]
    },
    {
      "metadata": {
        "colab_type": "code",
        "outputId": "d885bbcc-1e7c-4a8c-e343-ca1a0fa4fcec",
        "id": "87QLiQQbVhGq",
        "colab": {
          "base_uri": "https://localhost:8080/",
          "height": 101
        }
      },
      "cell_type": "code",
      "source": [
        "\n",
        "import numpy as np\n",
        "import cv2\n",
        "from PIL import Image\n",
        "\n",
        "cv_img = cv2.imread(\"six-digit.png\")\n",
        "img2 = cv2.resize(cv_img, (28,28))\n",
        "gray = cv2.cvtColor(img2, cv2.COLOR_BGR2GRAY)\n",
        "inverted = cv2.bitwise_not(gray)\n",
        "# print(cv_img.size)\n",
        "# print(img2.size)\n",
        "# print(gray.shape)\n",
        "# print(inverted.ravel().shape)\n",
        "\n",
        "# cv2.imshow(\"img2\",img2)\n",
        "# print(type(cv_img))\n",
        "# print(type(img2))\n",
        "# print(type(gray))\n",
        "\n",
        "# print(\"\\ncv_img\" , np.invert(cv_img).ravel())\n",
        "# print(\"\\nimg2\", img2)\n",
        "# print(\"\\ngray is =\\n\", gray)\n",
        "# print(\"\\ninverted is =\\n\", inverted)\n",
        "# print(inverted)\n",
        "\n",
        "prediction2 = sess.run(tf.argmax(output_layer,1), feed_dict={X: [gray.ravel()]})\n",
        "print (\"Prediction for test image:\", np.squeeze(prediction2))\n",
        "\n",
        "\n",
        "# img3 = np.invert(img2).convert('L')).ravel()\n",
        "# print(\"ravel is \\n\", np.invert(img2).ravel())                 \n",
        "# prediction = sess.run(tf.argmax(output_layer,1), feed_dict={X: [img2.ravel()]})\n",
        "# print (\"Prediction for test image:\", np.squeeze(prediction))                \n",
        "\n"
      ],
      "execution_count": 91,
      "outputs": [
        {
          "output_type": "stream",
          "text": [
            "270000\n",
            "2352\n",
            "(28, 28)\n",
            "(784,)\n",
            "Prediction for test image: 3\n"
          ],
          "name": "stdout"
        }
      ]
    },
    {
      "metadata": {
        "id": "RN98l-At6XtS",
        "colab_type": "code",
        "colab": {}
      },
      "cell_type": "code",
      "source": [
        ""
      ],
      "execution_count": 0,
      "outputs": []
    },
    {
      "metadata": {
        "id": "435a3ng4608B",
        "colab_type": "code",
        "colab": {}
      },
      "cell_type": "code",
      "source": [
        ""
      ],
      "execution_count": 0,
      "outputs": []
    }
  ]
}
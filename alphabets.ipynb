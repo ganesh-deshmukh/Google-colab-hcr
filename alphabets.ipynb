{
  "nbformat": 4,
  "nbformat_minor": 0,
  "metadata": {
    "colab": {
      "name": "alphabets.ipynb",
      "version": "0.3.2",
      "provenance": [],
      "collapsed_sections": [],
      "include_colab_link": true
    },
    "kernelspec": {
      "name": "python3",
      "display_name": "Python 3"
    }
  },
  "cells": [
    {
      "cell_type": "markdown",
      "metadata": {
        "id": "view-in-github",
        "colab_type": "text"
      },
      "source": [
        "<a href=\"https://colab.research.google.com/github/ganesh-deshmukh/Google-colab-hcr/blob/master/alphabets.ipynb\" target=\"_parent\"><img src=\"https://colab.research.google.com/assets/colab-badge.svg\" alt=\"Open In Colab\"/></a>"
      ]
    },
    {
      "metadata": {
        "id": "F37T821oswh0",
        "colab_type": "code",
        "colab": {
          "base_uri": "https://localhost:8080/",
          "height": 54
        },
        "outputId": "7e7945a8-173d-46c6-f9aa-a45f838c1925"
      },
      "cell_type": "code",
      "source": [
        "!kaggle datasets download -d sachinpatel21/az-handwritten-alphabets-in-csv-format"
      ],
      "execution_count": 5,
      "outputs": [
        {
          "output_type": "stream",
          "text": [
            "az-handwritten-alphabets-in-csv-format.zip: Skipping, found more recently modified local copy (use --force to force download)\n"
          ],
          "name": "stdout"
        }
      ]
    },
    {
      "metadata": {
        "id": "D6CrIlZ7uE3R",
        "colab_type": "code",
        "colab": {
          "base_uri": "https://localhost:8080/",
          "height": 50
        },
        "outputId": "88f4c007-8c15-44c9-cc66-712a616d4c5d"
      },
      "cell_type": "code",
      "source": [
        "!unzip az-handwritten-alphabets-in-csv-format.zip"
      ],
      "execution_count": 7,
      "outputs": [
        {
          "output_type": "stream",
          "text": [
            "Archive:  az-handwritten-alphabets-in-csv-format.zip\n",
            "  inflating: A_Z Handwritten Data.zip  \n"
          ],
          "name": "stdout"
        }
      ]
    },
    {
      "metadata": {
        "id": "xOczoDqRuYc-",
        "colab_type": "code",
        "colab": {
          "base_uri": "https://localhost:8080/",
          "height": 50
        },
        "outputId": "05f11ff8-4f10-447d-d59b-47aca448261f"
      },
      "cell_type": "code",
      "source": [
        "!unzip \"A_Z Handwritten Data.zip\"\n"
      ],
      "execution_count": 10,
      "outputs": [
        {
          "output_type": "stream",
          "text": [
            "Archive:  A_Z Handwritten Data.zip\n",
            "  inflating: A_Z Handwritten Data.csv  \n"
          ],
          "name": "stdout"
        }
      ]
    },
    {
      "metadata": {
        "id": "qvndi9x6vVsb",
        "colab_type": "code",
        "colab": {
          "base_uri": "https://localhost:8080/",
          "height": 151
        },
        "outputId": "fb18638f-3416-43b6-ac5e-a418c7317e0f"
      },
      "cell_type": "code",
      "source": [
        ""
      ],
      "execution_count": 11,
      "outputs": [
        {
          "output_type": "stream",
          "text": [
            " az-handwritten-alphabets-in-csv-format.zip\n",
            "'A_Z Handwritten Data.csv'\n",
            "'A_Z Handwritten Data.zip'\n",
            "'kaggle (1).json'\n",
            " kaggle.json\n",
            " sample_data\n",
            " six-resized.png\n",
            " stack-overflow-2018-developer-survey.zip\n"
          ],
          "name": "stdout"
        }
      ]
    },
    {
      "metadata": {
        "id": "dFXNkz_Ob5-N",
        "colab_type": "code",
        "colab": {
          "base_uri": "https://localhost:8080/",
          "height": 574
        },
        "outputId": "8235f551-a167-4a9d-a888-16b81f124f42"
      },
      "cell_type": "code",
      "source": [
        "from keras.models import Sequential\n",
        "from keras.layers import Dense\n",
        "from keras.layers import Dropout\n",
        "from keras.layers import Flatten\n",
        "from keras.layers.convolutional import Conv2D\n",
        "from keras.layers.convolutional import MaxPooling2D\n",
        "from keras import backend as K\n",
        "from keras.utils import np_utils\n",
        "from sklearn.model_selection import train_test_split\n",
        "import numpy as np\n",
        "\n",
        "# seed for reproducing same results\n",
        "seed = 785\n",
        "np.random.seed(seed)\n",
        "\n",
        "# load dataset\n",
        "dataset = np.loadtxt('./A_Z Handwritten Data.csv', delimiter=',')\n",
        "\n",
        "# split into input and output variables\n",
        "X = dataset[:,0:784]\n",
        "Y = dataset[:,0]\n",
        "\n",
        "# split the data into training (50%) and testing (50%)\n",
        "(X_train, X_test, Y_train, Y_test) = train_test_split(X, Y, test_size=0.50, random_state=seed)\n",
        "\n",
        "X_train = X_train.reshape(X_train.shape[0], 28, 28, 1).astype('float32')\n",
        "X_test = X_test.reshape(X_test.shape[0], 28, 28, 1).astype('float32')\n",
        "\n",
        "X_train = X_train / 255\n",
        "X_test = X_test / 255\n",
        "\n",
        "# one hot encode outputs\n",
        "Y_train = np_utils.to_categorical(Y_train)\n",
        "Y_test = np_utils.to_categorical(Y_test)\n",
        "\n",
        "num_classes = Y_test.shape[1]\n",
        "\n",
        "\n",
        "# create model\n",
        "model = Sequential()\n",
        "model.add(Conv2D(32, (5, 5), input_shape=(28, 28, 1), activation='relu'))\n",
        "model.add(MaxPooling2D(pool_size=(2, 2)))\n",
        "model.add(Dropout(0.2))\n",
        "model.add(Flatten())\n",
        "model.add(Dense(128, activation='relu'))\n",
        "model.add(Dense(num_classes, activation='softmax'))\n",
        "\n",
        "# Compile model\n",
        "model.compile(loss='categorical_crossentropy', optimizer='adam', metrics=['accuracy'])\n",
        "model.fit(X_train, Y_train, validation_data=(X_test, Y_test), epochs=10, batch_size=200, verbose=2)\n",
        "\n",
        "# Final evaluation of the model\n",
        "scores = model.evaluate(X_test,Y_test, verbose=0)\n",
        "print(\"CNN Error: %.2f%%\" % (100-scores[1]*100))\n",
        "\n",
        "model.save('weights.model')"
      ],
      "execution_count": 1,
      "outputs": [
        {
          "output_type": "stream",
          "text": [
            "Using TensorFlow backend.\n"
          ],
          "name": "stderr"
        },
        {
          "output_type": "stream",
          "text": [
            "WARNING:tensorflow:From /usr/local/lib/python3.6/dist-packages/tensorflow/python/framework/op_def_library.py:263: colocate_with (from tensorflow.python.framework.ops) is deprecated and will be removed in a future version.\n",
            "Instructions for updating:\n",
            "Colocations handled automatically by placer.\n",
            "WARNING:tensorflow:From /usr/local/lib/python3.6/dist-packages/keras/backend/tensorflow_backend.py:3445: calling dropout (from tensorflow.python.ops.nn_ops) with keep_prob is deprecated and will be removed in a future version.\n",
            "Instructions for updating:\n",
            "Please use `rate` instead of `keep_prob`. Rate should be set to `rate = 1 - keep_prob`.\n",
            "WARNING:tensorflow:From /usr/local/lib/python3.6/dist-packages/tensorflow/python/ops/math_ops.py:3066: to_int32 (from tensorflow.python.ops.math_ops) is deprecated and will be removed in a future version.\n",
            "Instructions for updating:\n",
            "Use tf.cast instead.\n",
            "Train on 186225 samples, validate on 186226 samples\n",
            "Epoch 1/10\n",
            " - 182s - loss: 0.2826 - acc: 0.9222 - val_loss: 0.1059 - val_acc: 0.9711\n",
            "Epoch 2/10\n",
            " - 182s - loss: 0.1016 - acc: 0.9719 - val_loss: 0.0831 - val_acc: 0.9767\n",
            "Epoch 3/10\n",
            " - 181s - loss: 0.0775 - acc: 0.9781 - val_loss: 0.0643 - val_acc: 0.9823\n",
            "Epoch 4/10\n",
            " - 184s - loss: 0.0629 - acc: 0.9819 - val_loss: 0.0615 - val_acc: 0.9831\n",
            "Epoch 5/10\n",
            " - 181s - loss: 0.0519 - acc: 0.9849 - val_loss: 0.0561 - val_acc: 0.9847\n",
            "Epoch 6/10\n",
            " - 181s - loss: 0.0426 - acc: 0.9874 - val_loss: 0.0537 - val_acc: 0.9855\n",
            "Epoch 7/10\n",
            " - 181s - loss: 0.0354 - acc: 0.9894 - val_loss: 0.0534 - val_acc: 0.9855\n",
            "Epoch 8/10\n",
            " - 181s - loss: 0.0308 - acc: 0.9907 - val_loss: 0.0470 - val_acc: 0.9876\n",
            "Epoch 9/10\n",
            " - 182s - loss: 0.0250 - acc: 0.9922 - val_loss: 0.0433 - val_acc: 0.9893\n",
            "Epoch 10/10\n",
            " - 181s - loss: 0.0208 - acc: 0.9938 - val_loss: 0.0417 - val_acc: 0.9897\n",
            "CNN Error: 1.03%\n"
          ],
          "name": "stdout"
        }
      ]
    },
    {
      "metadata": {
        "id": "M3HMHgehsZl0",
        "colab_type": "code",
        "colab": {}
      },
      "cell_type": "code",
      "source": [
        ""
      ],
      "execution_count": 0,
      "outputs": []
    }
  ]
}